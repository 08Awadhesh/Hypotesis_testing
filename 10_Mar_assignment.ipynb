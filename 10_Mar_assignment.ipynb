{
 "cells": [
  {
   "cell_type": "markdown",
   "id": "9bb07038-6c6a-40be-bf5c-45237a1c51ca",
   "metadata": {},
   "source": [
    "**Q1**: What is Estimation Statistics? Explain point estimate and interval estimate.\n",
    "\n",
    "**Asnwer**:Estimation statistics is a branch of statistics that deals with estimating unknown population parameters based on information obtained from a sample. In many real-world scenarios, it is not feasible or practical to collect data from an entire population, so researchers use samples to make inferences about the population.\n",
    "\n",
    "There are two main types of estimation in statistics:\n",
    "\n",
    "**Point Estimate:**\n",
    "A point estimate is a single value that is used to approximate an unknown population parameter. It is calculated from the sample data and serves as the best guess of the true population parameter. For example, if you want to estimate the average height of students in a school, you might take a sample of students, calculate their average height, and use that value as the point estimate of the population's average height.\n",
    "While point estimates are straightforward to calculate, they have one major limitation: they do not provide any information about the accuracy or uncertainty associated with the estimate. This is where interval estimates come into play.\n",
    "\n",
    "**Interval Estimate:**\n",
    "An interval estimate is a range of values within which the true population parameter is expected to lie with a certain level of confidence. It takes into account the variability in the sample data and provides a measure of uncertainty. The most common type of interval estimate is the confidence interval.\n",
    "\n",
    "**Confidence Interval**: A confidence interval is a range of values constructed around the point estimate in a way that it is likely to contain the true population parameter with a specified level of confidence. The confidence level is typically expressed as a percentage, such as 95% or 99%. For example, if you calculate a 95% confidence interval for the average height of students and obtain a range of 160 cm to 170 cm, it means that you are 95% confident that the true average height of the entire student population lies within that range."
   ]
  },
  {
   "cell_type": "markdown",
   "id": "f234ad00-bd4b-49a9-8b34-5ec950a251d4",
   "metadata": {},
   "source": [
    "**Q2.** Write a Python function to estimate the population mean using a sample mean and standard\n",
    "deviation.\n",
    "\n",
    "**Answer**:\n",
    " Assuming that the population follows a normal distribution, the formula for a confidence interval for the population mean (μ) with a given confidence level (1 - α) is:\n",
    "\n",
    "Confidence Interval = [sample_mean - margin_of_error, sample_mean + margin_of_error]\n",
    "\n",
    "Where:\n",
    "\n",
    "sample_mean is the mean of the sample.\n",
    "margin_of_error = critical_value * (sample_std_dev / sqrt(sample_size))\n",
    "critical_value is the value from the t-distribution or z-distribution table, depending on the sample size and desired confidence level. For large sample sizes (typically n > 30), you can use the z-score critical value. For smaller sample sizes, the t-score critical value is more appropriate.\n",
    "sample_std_dev is the standard deviation of the sample.\n",
    "sample_size is the size of the sample.\n",
    "Here's a Python function to estimate the population mean using a sample mean and standard deviation:"
   ]
  },
  {
   "cell_type": "code",
   "execution_count": 2,
   "id": "c7bc19d5-77de-4769-9ff5-a735d5fb579e",
   "metadata": {},
   "outputs": [],
   "source": [
    "import math\n",
    "\n",
    "def estimate_population_mean(sample_mean, sample_std_dev, sample_size, confidence_level=0.95):\n",
    "    # Calculate the critical value based on the desired confidence level\n",
    "    if sample_size >= 30:\n",
    "        # For large sample sizes, use the z-score critical value\n",
    "        from scipy.stats import norm\n",
    "        critical_value = norm.ppf(1 - (1 - confidence_level) / 2)\n",
    "    else:\n",
    "        # For small sample sizes, use the t-score critical value\n",
    "        from scipy.stats import t\n",
    "        degrees_of_freedom = sample_size - 1\n",
    "        critical_value = t.ppf(1 - (1 - confidence_level) / 2, degrees_of_freedom)\n",
    "    \n",
    "    # Calculate the margin of error\n",
    "    margin_of_error = critical_value * (sample_std_dev / math.sqrt(sample_size))\n",
    "    \n",
    "    # Calculate the confidence interval\n",
    "    lower_bound = sample_mean - margin_of_error\n",
    "    upper_bound = sample_mean + margin_of_error\n",
    "    \n",
    "    return lower_bound, upper_bound\n",
    "\n"
   ]
  },
  {
   "cell_type": "code",
   "execution_count": 3,
   "id": "183933dc-7dba-4095-ae90-f8e07c9d2011",
   "metadata": {},
   "outputs": [
    {
     "name": "stdout",
     "output_type": "stream",
     "text": [
      "Population mean is estimated to be between 73.95 and 76.45 with 95.0% confidence.\n"
     ]
    }
   ],
   "source": [
    "\n",
    "# Example usage:\n",
    "sample_mean = 75.2\n",
    "sample_std_dev = 4.5\n",
    "sample_size = 50\n",
    "confidence_level = 0.95\n",
    "\n",
    "lower_bound, upper_bound = estimate_population_mean(sample_mean, sample_std_dev, sample_size, confidence_level)\n",
    "print(f\"Population mean is estimated to be between {lower_bound:.2f} and {upper_bound:.2f} with {confidence_level * 100}% confidence.\")"
   ]
  },
  {
   "cell_type": "markdown",
   "id": "66dbcd2e-8838-4bf6-b9c5-5ec4f0870127",
   "metadata": {},
   "source": [
    "\n",
    "**Q3**: What is Hypothesis testing? Why is it used? State the importance of Hypothesis testing.\n",
    "\n",
    "**Answer**:\n",
    "Hypothesis testing is a statistical method used to make decisions about a population based on sample data. It involves formulating two competing hypotheses about a population parameter and then using sample data to determine which hypothesis is more likely to be true.\n",
    "\n",
    "The two main hypotheses in hypothesis testing are:\n",
    "\n",
    "**Null Hypothesis (H0)**: This is the default or initial assumption that there is no significant difference, effect, or relationship in the population. It represents the status quo or the absence of an effect. Researchers often aim to reject this hypothesis.\n",
    "\n",
    "**Alternative Hypothesis (H1 or Ha):** This is the hypothesis that contradicts the null hypothesis and suggests that there is a significant difference, effect, or relationship in the population. Researchers aim to support this hypothesis.\n",
    "\n",
    "**The hypothesis testing process involves the following steps:**\n",
    "\n",
    "(I) Formulate the null and alternative hypotheses based on the research question and the specific claim being investigated.\n",
    "\n",
    "(II) Collect sample data and calculate relevant test statistics based on the sample.\n",
    "\n",
    "(III) Determine the probability of obtaining the observed results (or more extreme results) under the assumption that the null hypothesis is true. This probability is known as the p-value.\n",
    "\n",
    "(IV) Compare the p-value to a pre-determined significance level (α) or confidence level (1 - α). The significance level is the threshold below which the null hypothesis will be rejected in favor of the alternative hypothesis.\n",
    "\n",
    "(V) Make a decision: If the p-value is less than the significance level, we reject the null hypothesis in favor of the alternative hypothesis. If the p-value is greater than the significance level, we fail to reject the null hypothesis (not necessarily accepting it).\n",
    "\n",
    "**Importance of Hypothesis Testing:**\n",
    "\n",
    "**(I) Objective Decision Making**: Hypothesis testing provides a systematic and objective framework for making decisions based on data. It helps researchers avoid biased or arbitrary conclusions and ensures that decisions are backed by statistical evidence.\n",
    "\n",
    "**(II) Scientific Research**: Hypothesis testing is a fundamental tool in scientific research. It allows researchers to test hypotheses, validate theories, and contribute to the body of scientific knowledge.\n",
    "\n",
    "**(III) Inference about Populations**: Hypothesis testing allows us to make inferences about population parameters using sample data. This is crucial because it is often impractical or impossible to collect data from an entire population.\n",
    "\n",
    "**(IV) Business and Industry**: In business and industry, hypothesis testing is used for quality control, product testing, market research, and other decision-making processes. It helps businesses make informed choices and improve their products and services.\n",
    "\n",
    "**(V) Policy and Government**: Hypothesis testing plays a vital role in policy analysis and government decision-making. It helps policymakers evaluate the effectiveness of interventions and assess the impact of various policies.\n",
    "\n",
    "**(VI) Medical and Health Sciences**: Hypothesis testing is extensively used in medical and health sciences to assess the effectiveness of treatments, compare drug therapies, and study disease prevalence."
   ]
  },
  {
   "cell_type": "markdown",
   "id": "fd951dc8-610d-4178-8ec6-f921a1ed55ee",
   "metadata": {},
   "source": [
    "**Q4**. Create a hypothesis that states whether the average weight of male college students is greater than\n",
    "the average weight of female college students.\n",
    "\n",
    "**Answer**:Hypothesis:\n",
    "\n",
    "Null Hypothesis (H0): The average weight of male college students is equal to or less than the average weight of female college students.\n",
    "\n",
    "Alternative Hypothesis (Ha): The average weight of male college students is greater than the average weight of female college students.\n",
    "\n",
    "Symbolically, the hypotheses can be represented as follows:\n",
    "\n",
    "H0: μ_male <= μ_female\n",
    "Ha: μ_male > μ_female\n",
    "\n",
    "Where:\n",
    "\n",
    "μ_male represents the population mean weight of male college students.\n",
    "μ_female represents the population mean weight of female college students.\n",
    "In this hypothesis, we are investigating whether there is evidence to suggest that male college students, on average, weigh more than female college students. The null hypothesis assumes that there is no significant difference or that male college students may weigh less or the same as female college students. The alternative hypothesis proposes that there is indeed a difference, and male college students have a higher average weight than female college students.\n",
    "\n",
    "To test this hypothesis, researchers would collect data on the weights of male and female college students, calculate the sample means, and conduct a hypothesis test using appropriate statistical methods to determine if there is sufficient evidence to support the alternative hypothesis."
   ]
  },
  {
   "cell_type": "markdown",
   "id": "89ea9eac-da02-493d-a6f1-d5be7fa04918",
   "metadata": {},
   "source": [
    "**Q5**. Write a Python script to conduct a hypothesis test on the difference between two population means,\n",
    "given a sample from each population.\n",
    "\n",
    "**Answer**:"
   ]
  },
  {
   "cell_type": "code",
   "execution_count": 5,
   "id": "40c753a7-c96f-498a-8bae-355f65929c5c",
   "metadata": {},
   "outputs": [
    {
     "name": "stdout",
     "output_type": "stream",
     "text": [
      "Reject the null hypothesis: There is a significant difference between the population means.\n",
      "T-statistic: 5.618335467970648\n",
      "P-value: 2.4854503064028896e-05\n"
     ]
    }
   ],
   "source": [
    "from scipy import stats\n",
    "\n",
    "def two_sample_t_test(sample1, sample2, alpha=0.05):\n",
    "    # Perform two-sample t-test\n",
    "    t_stat, p_value = stats.ttest_ind(sample1, sample2, equal_var=True)\n",
    "    \n",
    "    # Determine if the result is significant\n",
    "    if p_value < alpha:\n",
    "        print(\"Reject the null hypothesis: There is a significant difference between the population means.\")\n",
    "    else:\n",
    "        print(\"Fail to reject the null hypothesis: There is no significant difference between the population means.\")\n",
    "    \n",
    "    # Print the t-statistic and p-value\n",
    "    print(\"T-statistic:\", t_stat)\n",
    "    print(\"P-value:\", p_value)\n",
    "\n",
    "# Example usage:\n",
    "sample_male = [72, 70, 75, 78, 68, 73, 69, 74, 71, 72]  # Sample data for male college students\n",
    "sample_female = [65, 67, 68, 63, 66, 64, 69, 67, 66, 65]  # Sample data for female college students\n",
    "alpha = 0.05  # Significance level (default is 0.05)\n",
    "\n",
    "two_sample_t_test(sample_male, sample_female, alpha)\n"
   ]
  },
  {
   "cell_type": "markdown",
   "id": "8a44b9a4-2dad-424a-8052-2ee7a580b3e3",
   "metadata": {},
   "source": [
    "**Q6**: What is a null and alternative hypothesis? Give some examples.\n",
    "\n",
    "**Answer**:\n",
    "In statistics, a null hypothesis (H0) and an alternative hypothesis (Ha) are two complementary statements used in hypothesis testing. Hypothesis testing is a method to determine if there is enough evidence to support or reject a claim or belief about a population parameter based on sample data.\n",
    "\n",
    "**Null Hypothesis (H0)**:\n",
    "The null hypothesis is the default assumption or status quo. It states that there is no significant difference, effect, or relationship in the population being studied. In other words, any observed difference or effect is merely due to chance or random variation. The null hypothesis is typically denoted as H0.\n",
    "\n",
    "Example 1 (Coin Toss): The null hypothesis in a coin toss experiment would be that the coin is fair, and it has an equal probability of landing heads or tails.\n",
    "\n",
    "Example 2 (Drug Test): The null hypothesis in a medical drug test might be that the new drug has no effect on patients' recovery, and any observed improvement is purely coincidental.\n",
    "\n",
    "**Alternative Hypothesis (Ha)**:\n",
    "The alternative hypothesis is the statement that contradicts the null hypothesis. It suggests that there is a significant difference, effect, or relationship in the population, and any observed results are not due to chance alone. The alternative hypothesis is the hypothesis researchers aim to support when conducting a hypothesis test. It is denoted as Ha.\n",
    "\n",
    "Example 1 (Coin Toss): The alternative hypothesis in the coin toss experiment would be that the coin is biased and has a different probability of landing heads or tails.\n",
    "\n",
    "Example 2 (Drug Test): The alternative hypothesis in the drug test would be that the new drug has a positive effect on patients' recovery, and any observed improvement is due to the drug's efficacy."
   ]
  },
  {
   "cell_type": "markdown",
   "id": "34a74841-e8c1-455f-9d66-a44247c9192e",
   "metadata": {},
   "source": [
    "**Q7**: Write down the steps involved in hypothesis testing.\n",
    "\n",
    "**Answer**:\n",
    "Hypothesis testing involves a systematic process of evaluating sample data to draw conclusions about a population parameter. The general steps involved in hypothesis testing are as follows:\n",
    "\n",
    "**(I) Formulate the Hypotheses:**\n",
    "\n",
    "Null Hypothesis (H0): State the default assumption or belief about the population parameter. It typically asserts that there is no significant difference, effect, or relationship.\n",
    "\n",
    "Alternative Hypothesis (Ha): State the opposite of the null hypothesis. It suggests that there is a significant difference, effect, or relationship in the population.\n",
    "**(II) Set the Significance Level (α):\n",
    "\n",
    "Choose a significance level (α) to determine the threshold for rejecting the null hypothesis. Commonly used significance levels are 0.05 (5%) or 0.01 (1%).\n",
    "Select the Test Statistic:\n",
    "\n",
    "Choose an appropriate test statistic based on the nature of the data and the hypotheses being tested. For example, if comparing means of two samples, the t-test may be used.\n",
    "\n",
    "**(III) Collect Sample Data:**\n",
    "\n",
    "Collect data from the population of interest or select representative samples from the population.\n",
    "\n",
    "**(IV) Calculate the Test Statistic:**\n",
    "\n",
    "Use the collected sample data to calculate the test statistic. The test statistic measures the difference between the observed data and what is expected under the null hypothesis.\n",
    "\n",
    "**(V) Calculate the P-value**:\n",
    "\n",
    "Calculate the probability of obtaining the observed results (or more extreme results) assuming the null hypothesis is true. This probability is known as the p-value.\n",
    "\n",
    "**(VI) Compare P-value with Significance Level (α):**\n",
    "\n",
    "Compare the calculated p-value with the significance level (α) set in step 2.\n",
    "If p-value ≤ α, reject the null hypothesis in favor of the alternative hypothesis. There is enough evidence to support the claim.\n",
    "If p-value > α, fail to reject the null hypothesis. There is not enough evidence to support the claim.\n",
    "\n",
    "**(VII) Draw Conclusions:**\n",
    "\n",
    "Based on the comparison in step 7, draw conclusions about the population parameter:\n",
    "If the null hypothesis is rejected, the results are statistically significant, and the alternative hypothesis is supported.\n",
    "If the null hypothesis is not rejected, the results are not statistically significant, and the evidence is insufficient to support the alternative hypothesis.\n",
    "\n",
    "**(VIII) Interpretation:**\n",
    "\n",
    "Interpret the findings in the context of the problem being investigated, taking into account the significance level, effect size, and practical implications.\n",
    "It's essential to note that failing to reject the null hypothesis does not necessarily prove the null hypothesis to be true; it simply means that there is not enough evidence to support the alternative hypothesis based on the available data."
   ]
  },
  {
   "cell_type": "markdown",
   "id": "1929adbb-f4a5-44e4-8489-6c38173a5e10",
   "metadata": {},
   "source": [
    "**Q8.** Define p-value and explain its significance in hypothesis testing.\n",
    "\n",
    "**Answer**\n",
    "In hypothesis testing, the p-value (probability value) is a measure of the strength of the evidence against the null hypothesis (H0). It quantifies the probability of obtaining the observed results (or more extreme results) if the null hypothesis were true. In other words, the p-value tells us how likely it is to observe the data we have, assuming that there is no significant difference, effect, or relationship in the population.\n",
    "\n",
    "The significance of the p-value lies in its role in the decision-making process during hypothesis testing. Here's how the p-value is interpreted:\n",
    "\n",
    "**Small p-value (p ≤ α):**\n",
    "\n",
    "If the calculated p-value is less than or equal to the significance level (α) set at the beginning of the test, it indicates that the observed data is unlikely to have occurred by chance alone, assuming the null hypothesis is true.\n",
    "In this case, we reject the null hypothesis in favor of the alternative hypothesis (Ha). We conclude that there is enough evidence to support the claim made by the alternative hypothesis.\n",
    "\n",
    "**Large p-value (p > α):**\n",
    "\n",
    "If the calculated p-value is greater than the significance level (α), it suggests that the observed data is reasonably likely to occur by chance alone, assuming the null hypothesis is true.\n",
    "In this case, we fail to reject the null hypothesis (H0). We do not have enough evidence to support the claim made by the alternative hypothesis.\n",
    "It's important to note that a p-value does not directly give the probability that the null hypothesis is true or false. Instead, it provides information about the likelihood of obtaining the observed results under the assumption that the null hypothesis is true. Therefore, the p-value is conditional on the null hypothesis being true and is used to guide the decision-making process in hypothesis testing.\n",
    "\n",
    "In practical terms, a smaller p-value suggests stronger evidence against the null hypothesis, indicating that the results are unlikely to be due to random chance. On the other hand, a larger p-value suggests weaker evidence against the null hypothesis, implying that the observed results are reasonably consistent with what we would expect if the null hypothesis were true.\n",
    "\n",
    "Choosing an appropriate significance level (α) is essential, as it determines the threshold for considering a p-value as statistically significant. Commonly used significance levels are 0.05 (5%) or 0.01 (1%), but researchers should consider the specific context and consequences of Type I and Type II errors when setting the significance level."
   ]
  },
  {
   "cell_type": "markdown",
   "id": "b1fe83db-41a1-4bdc-94f8-17b534a2b037",
   "metadata": {},
   "source": [
    "**Q9.** Generate a Student's t-distribution plot using Python's matplotlib library, with the degrees of freedom\n",
    "parameter set to 10.\n",
    "\n",
    "**Answer**:"
   ]
  },
  {
   "cell_type": "code",
   "execution_count": 9,
   "id": "b4c61164-8772-4b59-ab31-8e0d085b19cb",
   "metadata": {},
   "outputs": [
    {
     "data": {
      "image/png": "[encoded data removed]",
      "text/plain": [
       "<Figure size 800x600 with 1 Axes>"
      ]
     },
     "metadata": {},
     "output_type": "display_data"
    }
   ],
   "source": [
    "import numpy as np\n",
    "import matplotlib.pyplot as plt\n",
    "from scipy.stats import t\n",
    "\n",
    "# Set the degrees of freedom\n",
    "degrees_of_freedom = 10\n",
    "\n",
    "# Generate data points for the t-distribution\n",
    "x = np.linspace(-4, 4, 1000)  # Generate 1000 points from -4 to 4\n",
    "\n",
    "# Calculate the probability density function (PDF) for the t-distribution\n",
    "pdf_values = t.pdf(x, df=degrees_of_freedom)\n",
    "\n",
    "# Create the plot\n",
    "plt.figure(figsize=(8, 6))\n",
    "plt.plot(x, pdf_values, label=f't-distribution (df={degrees_of_freedom})', color='b')\n",
    "plt.title(f\"Student's t-distribution (Degrees of Freedom = {degrees_of_freedom})\")\n",
    "plt.xlabel('x')\n",
    "plt.ylabel('Probability Density Function')\n",
    "plt.legend()\n",
    "plt.grid(True)\n",
    "plt.show()\n"
   ]
  },
  {
   "cell_type": "markdown",
   "id": "edfdb4d7-abe4-4fd1-9b1c-42a4ee8a1b06",
   "metadata": {},
   "source": [
    "**Q10.** Write a Python program to calculate the two-sample t-test for independent samples, given two\n",
    "random samples of equal size and a null hypothesis that the population means are equal.\n",
    "\n",
    "**Answer**:"
   ]
  },
  {
   "cell_type": "code",
   "execution_count": 10,
   "id": "ea1333ca-a8fe-471b-b332-a63c6272c146",
   "metadata": {},
   "outputs": [
    {
     "name": "stdout",
     "output_type": "stream",
     "text": [
      "Reject the null hypothesis: There is a significant difference between the population means.\n",
      "T-statistic: 2.4285714285714275\n",
      "P-value: 0.04129417073942067\n"
     ]
    }
   ],
   "source": [
    "import numpy as np\n",
    "from scipy.stats import ttest_ind\n",
    "\n",
    "def two_sample_t_test(sample1, sample2):\n",
    "    # Perform two-sample t-test\n",
    "    t_stat, p_value = ttest_ind(sample1, sample2)\n",
    "    \n",
    "    # Determine if the result is significant\n",
    "    alpha = 0.05  # Significance level (default is 0.05)\n",
    "    if p_value < alpha:\n",
    "        print(\"Reject the null hypothesis: There is a significant difference between the population means.\")\n",
    "    else:\n",
    "        print(\"Fail to reject the null hypothesis: There is no significant difference between the population means.\")\n",
    "    \n",
    "    # Print the t-statistic and p-value\n",
    "    print(\"T-statistic:\", t_stat)\n",
    "    print(\"P-value:\", p_value)\n",
    "\n",
    "# Example usage:\n",
    "sample1 = np.array([30, 35, 32, 37, 33])\n",
    "sample2 = np.array([28, 29, 31, 32, 30])\n",
    "\n",
    "two_sample_t_test(sample1, sample2)\n"
   ]
  },
  {
   "cell_type": "markdown",
   "id": "07c71628-550d-4ebc-8a31-30f6b0d0087d",
   "metadata": {},
   "source": [
    "**Q11**: What is Student’s t distribution? When to use the t-Distribution.\n",
    "\n",
    "**Answer**:\n",
    "Student's t-distribution, often simply referred to as the t-distribution, is a probability distribution that arises when estimating the mean of a normally distributed population when the sample size is small and the population standard deviation is unknown. It is named after William Gosset, who used the pseudonym \"Student\" when publishing his work in 1908.\n",
    "\n",
    "The t-distribution is similar in shape to the standard normal distribution (z-distribution), but its tails are slightly wider, making it more robust for small sample sizes. As the sample size increases, the t-distribution approaches the standard normal distribution.\n",
    "\n",
    "**When to use the t-Distribution:**\n",
    "\n",
    "The t-distribution is used in situations where the following conditions are met:\n",
    "\n",
    "**Small Sample Size**: The t-distribution is appropriate when the sample size is small (typically n < 30) and the population standard deviation is unknown. For larger sample sizes (n ≥ 30), the t-distribution approximates the standard normal distribution, and the z-test can be used instead.\n",
    "\n",
    "**Population Standard Deviation is Unknown:** If the population standard deviation is unknown, it must be estimated from the sample data. The sample standard deviation is used as an estimate in the formula for the t-test, making the t-distribution appropriate in such cases.\n",
    "\n",
    "**Normally Distributed Population:** The t-distribution is most accurate when the underlying population follows a normal distribution. However, it is known to be reasonably robust even if the population distribution is not exactly normal, especially for moderate sample sizes.\n",
    "\n",
    "Common scenarios where the t-distribution is frequently used include:\n",
    "\n",
    "Hypothesis testing for small sample sizes: Comparing means or conducting t-tests when the sample size is small and the population standard deviation is unknown.\n",
    "\n",
    "Confidence intervals for small sample sizes: Estimating population parameters with a specified level of confidence when the sample size is small and the population standard deviation is unknown.\n",
    "\n",
    "Regression analysis with small sample sizes: Performing t-tests for regression coefficients in linear regression models with small sample sizes."
   ]
  },
  {
   "cell_type": "markdown",
   "id": "b2ba3350-3450-41f0-b9d2-5c464fee5800",
   "metadata": {},
   "source": [
    "**Q12**: What is t-statistic? State the formula for t-statistic.\n",
    "\n",
    "**Answer**:\n",
    "The t-statistic is a measure used in hypothesis testing to quantify the difference between a sample statistic (such as the sample mean) and the corresponding population parameter, assuming that the sample data follows a t-distribution. It is used primarily when the population standard deviation is unknown, and the sample size is small (typically n < 30).\n",
    "\n",
    "The formula for the t-statistic depends on the context of its application. One of the most common scenarios is when comparing the means of two independent samples. In this case, the formula for the two-sample t-statistic is:\n",
    "\n",
    "t = (x̄1 - x̄2) / sqrt[(s1^2 / n1) + (s2^2 / n2)]\n",
    "\n",
    "Where:\n",
    "\n",
    "x̄1 and x̄2 are the sample means of the two independent samples.\n",
    "\n",
    "s1 and s2 are the sample standard deviations of the two independent samples.\n",
    "\n",
    "n1 and n2 are the sizes of the two independent samples.\n",
    "\n",
    "This formula calculates the t-statistic for testing the null hypothesis that the two population means are equal. If the t-statistic is significantly different from zero (i.e., if the absolute value of the t-statistic is large and the p-value is small), it indicates that there is a significant difference between the means of the two populations.\n",
    "\n",
    "It's important to note that the t-statistic can be positive or negative, depending on the direction of the difference between the sample means. The absolute value of the t-statistic is used when comparing it to critical values from the t-distribution table to determine statistical significance.\n",
    "\n",
    "In different scenarios, such as testing the mean of a single sample against a known value or testing the coefficients in a linear regression model, the formula for the t-statistic may vary. The key element is that the t-statistic always involves a comparison between the sample statistic and the corresponding population parameter, accounting for the uncertainty introduced by small sample sizes and unknown population standard deviations"
   ]
  },
  {
   "cell_type": "markdown",
   "id": "2b96a7a0-28d4-47c9-88ae-a7387425d90f",
   "metadata": {},
   "source": [
    "**Q13.** A coffee shop owner wants to estimate the average daily revenue for their shop. They take a random\n",
    "sample of 50 days and find the sample mean revenue to be 500 doller with a standard deviation of  50 doller.\n",
    "Estimate the population mean revenue with a 95% confidence interval.\n",
    "\n",
    "**Answer**:To estimate the population mean revenue with a 95% confidence interval, we can use the t-distribution since the population standard deviation is unknown, and the sample size is relatively small (n = 50). Here's how you can calculate the confidence interval:\n",
    "\n",
    "**Step 1: Given information**\n",
    "Sample mean (x̄) = $500\n",
    "Sample standard deviation (s) = $50\n",
    "Sample size (n) = 50\n",
    "Confidence level (1 - α) = 95% (α = 0.05)\n",
    "\n",
    "**Step 2:** Find the critical value (t-critical) from the t-distribution table for a 95% confidence level with (n - 1) degrees of freedom. Since the sample size is 50, the degrees of freedom will be (50 - 1) = 49.\n",
    "\n",
    "You can either look up the critical value from the t-table or use Python code to find it:"
   ]
  },
  {
   "cell_type": "code",
   "execution_count": 11,
   "id": "f0a989ec-30d4-4185-80a2-86b637879252",
   "metadata": {},
   "outputs": [],
   "source": [
    "import scipy.stats as stats\n",
    "\n",
    "confidence_level = 0.95\n",
    "degrees_of_freedom = 49\n",
    "t_critical = stats.t.ppf(1 - (1 - confidence_level) / 2, degrees_of_freedom)\n"
   ]
  },
  {
   "cell_type": "markdown",
   "id": "335bae28-5950-4174-a7a6-d68df938859b",
   "metadata": {},
   "source": [
    "Step 3: Calculate the standard error (SE) of the sample mean:\n",
    "\n",
    "SE = s / sqrt(n)"
   ]
  },
  {
   "cell_type": "code",
   "execution_count": 12,
   "id": "0a0d0719-cc0e-40f3-a5d2-0f25d7a202c0",
   "metadata": {},
   "outputs": [],
   "source": [
    "standard_error = 50 / (50 ** 0.5)\n"
   ]
  },
  {
   "cell_type": "markdown",
   "id": "4c42f510-c3a9-4f33-bc8e-f1ca310a4e65",
   "metadata": {},
   "source": [
    "Step 4: Calculate the margin of error (ME):\n",
    "\n",
    "ME = t-critical * SE"
   ]
  },
  {
   "cell_type": "code",
   "execution_count": 13,
   "id": "8ac50667-b31d-4e2d-9feb-2c667a55bf8e",
   "metadata": {},
   "outputs": [],
   "source": [
    "margin_of_error = t_critical * standard_error\n"
   ]
  },
  {
   "cell_type": "markdown",
   "id": "7bcc227f-e142-487a-a3c8-1e381c3532b5",
   "metadata": {},
   "source": [
    "Step 5: Calculate the confidence interval:\n",
    "\n",
    "Lower bound = Sample mean - Margin of error\n",
    "\n",
    "Upper bound = Sample mean + Margin of error"
   ]
  },
  {
   "cell_type": "code",
   "execution_count": 14,
   "id": "94589639-ee73-438f-ab23-bc90cc000f20",
   "metadata": {},
   "outputs": [],
   "source": [
    "lower_bound = 500 - margin_of_error\n",
    "upper_bound = 500 + margin_of_error\n"
   ]
  },
  {
   "cell_type": "markdown",
   "id": "91be2ae4-3614-4ad7-894b-d84a8aa408f3",
   "metadata": {},
   "source": [
    "Step 6: Interpret the results:\n",
    "\n",
    "The population mean revenue can be estimated to lie within the 95% confidence interval of (lower_bound, upper_bound). In this case, the 95% confidence interval is (500 - margin_of_error, 500 + margin_of_error), which means we are 95% confident that the true average daily revenue for the coffee shop falls between lower_bound and $upper_bound."
   ]
  },
  {
   "cell_type": "markdown",
   "id": "974d51e1-0cf7-491a-bfe4-6d5141dcf9e0",
   "metadata": {},
   "source": [
    "**Q14**. A researcher hypothesizes that a new drug will decrease blood pressure by 10 mmHg. They conduct a\n",
    "clinical trial with 100 patients and find that the sample mean decrease in blood pressure is 8 mmHg with a\n",
    "standard deviation of 3 mmHg. Test the hypothesis with a significance level of 0.05.\n",
    "\n",
    "**Answer**:\n",
    "To test the hypothesis that the new drug will decrease blood pressure by 10 mmHg, we can perform a one-sample t-test. The null hypothesis (H0) is that the mean decrease in blood pressure is equal to 10 mmHg, and the alternative hypothesis (Ha) is that the mean decrease is different from 10 mmHg.\n",
    "\n",
    "Given the sample mean decrease in blood pressure (x̄) of 8 mmHg, sample standard deviation (s) of 3 mmHg, sample size (n) of 100, and a significance level (α) of 0.05, we can calculate the t-statistic and the corresponding p-value to test the hypothesis.\n",
    "\n",
    "**Step 1**: Set up hypotheses:\n",
    "Null Hypothesis (H0): The mean decrease in blood pressure is equal to 10 mmHg.\n",
    "Alternative Hypothesis (Ha): The mean decrease in blood pressure is different from 10 mmHg.\n",
    "\n",
    "**Step 2**: Calculate the t-statistic:\n",
    "The formula for the one-sample t-statistic is:\n",
    "\n",
    "t = (x̄ - μ) / (s / √n)\n",
    "\n",
    "where:\n",
    "x̄ = Sample mean decrease in blood pressure (8 mmHg)\n",
    "μ = Hypothesized population mean decrease in blood pressure under the null hypothesis (10 mmHg)\n",
    "s = Sample standard deviation (3 mmHg)\n",
    "n = Sample size (100)\n",
    "\n",
    "**Step 3: Calculate the p-value:**\n",
    "We can calculate the p-value using the cumulative distribution function (CDF) of the t-distribution.\n",
    "\n",
    "Step 4: Compare the p-value with the significance level:\n",
    "If the p-value is less than the significance level (α = 0.05), we reject the null hypothesis in favor of the alternative hypothesis. If the p-value is greater than or equal to α, we fail to reject the null hypothesis.\n"
   ]
  },
  {
   "cell_type": "code",
   "execution_count": 15,
   "id": "68bb415f-a0da-484e-b819-760e6d38714a",
   "metadata": {},
   "outputs": [
    {
     "name": "stdout",
     "output_type": "stream",
     "text": [
      "Reject the null hypothesis: The new drug has a significant effect on reducing blood pressure.\n"
     ]
    }
   ],
   "source": [
    "import numpy as np\n",
    "from scipy.stats import t\n",
    "\n",
    "sample_mean = 8\n",
    "population_mean = 10\n",
    "sample_std_dev = 3\n",
    "sample_size = 100\n",
    "\n",
    "t_statistic = (sample_mean - population_mean) / (sample_std_dev / np.sqrt(sample_size))\n",
    "degrees_of_freedom = sample_size - 1\n",
    "p_value = 2 * (1 - t.cdf(abs(t_statistic), df=degrees_of_freedom))\n",
    "alpha = 0.05\n",
    "\n",
    "if p_value < alpha:\n",
    "    print(\"Reject the null hypothesis: The new drug has a significant effect on reducing blood pressure.\")\n",
    "else:\n",
    "    print(\"Fail to reject the null hypothesis: There is insufficient evidence to conclude that the drug decreases blood pressure significantly.\")\n"
   ]
  },
  {
   "cell_type": "markdown",
   "id": "2f8dfd2d-9105-485e-8617-63d5120dfa24",
   "metadata": {},
   "source": [
    "In this case, you would compare the calculated p-value to the significance level (α = 0.05). If the p-value is less than 0.05, you would reject the null hypothesis and conclude that the new drug has a significant effect on reducing blood pressure. If the p-value is greater than or equal to 0.05, you would fail to reject the null hypothesis and not conclude that the drug has a significant effect."
   ]
  },
  {
   "cell_type": "markdown",
   "id": "16b3507c-3fb6-4a81-bebb-c1256107b036",
   "metadata": {},
   "source": [
    "**Q15.** An electronics company produces a certain type of product with a mean weight of 5 pounds and a\n",
    "standard deviation of 0.5 pounds. A random sample of 25 products is taken, and the sample mean weight\n",
    "is found to be 4.8 pounds. Test the hypothesis that the true mean weight of the products is less than 5\n",
    "pounds with a significance level of 0.01.\n",
    "\n",
    "**Answer**:\n",
    "To test the hypothesis that the true mean weight of the products is less than 5 pounds, we can perform a one-sample left-tailed t-test. The null hypothesis (H0) is that the true mean weight is equal to 5 pounds, and the alternative hypothesis (Ha) is that the true mean weight is less than 5 pounds.\n",
    "\n",
    "Given the sample mean weight (x̄) of 4.8 pounds, the population standard deviation (σ) of 0.5 pounds, sample size (n) of 25, and a significance level (α) of 0.01, we can calculate the t-statistic and the corresponding p-value to test the hypothesis.\n",
    "\n",
    "Step 1: Set up hypotheses:\n",
    "Null Hypothesis (H0): The true mean weight of the products is equal to 5 pounds.\n",
    "Alternative Hypothesis (Ha): The true mean weight of the products is less than 5 pounds.\n",
    "\n",
    "Step 2: Calculate the t-statistic:\n",
    "The formula for the one-sample t-statistic is:\n",
    "\n",
    "t = (x̄ - μ) / (σ / √n)\n",
    "\n",
    "where:\n",
    "x̄ = Sample mean weight (4.8 pounds)\n",
    "μ = Hypothesized population mean weight under the null hypothesis (5 pounds)\n",
    "σ = Population standard deviation (0.5 pounds)\n",
    "n = Sample size (25)\n",
    "\n",
    "Step 3: Calculate the p-value:\n",
    "We can calculate the p-value using the cumulative distribution function (CDF) of the t-distribution.\n",
    "\n",
    "Step 4: Compare the p-value with the significance level:\n",
    "Since this is a left-tailed test (testing if the true mean weight is less than 5 pounds), we compare the p-value with the significance level (α = 0.01)."
   ]
  },
  {
   "cell_type": "code",
   "execution_count": 16,
   "id": "a8e1e902-0676-423a-ad2e-53846c73b307",
   "metadata": {},
   "outputs": [
    {
     "name": "stdout",
     "output_type": "stream",
     "text": [
      "Fail to reject the null hypothesis: There is insufficient evidence to conclude that the true mean weight is less than 5 pounds.\n"
     ]
    }
   ],
   "source": [
    "import numpy as np\n",
    "\n",
    "sample_mean = 4.8\n",
    "population_mean = 5\n",
    "population_std_dev = 0.5\n",
    "sample_size = 25\n",
    "\n",
    "t_statistic = (sample_mean - population_mean) / (population_std_dev / np.sqrt(sample_size))\n",
    "\n",
    "from scipy.stats import t\n",
    "\n",
    "degrees_of_freedom = sample_size - 1\n",
    "p_value = t.cdf(t_statistic, df=degrees_of_freedom)\n",
    "alpha = 0.01\n",
    "\n",
    "if p_value < alpha:\n",
    "    print(\"Reject the null hypothesis: The true mean weight of the products is less than 5 pounds.\")\n",
    "else:\n",
    "    print(\"Fail to reject the null hypothesis: There is insufficient evidence to conclude that the true mean weight is less than 5 pounds.\")\n"
   ]
  },
  {
   "cell_type": "markdown",
   "id": "1e2a7bca-64be-46f5-8584-758e659bf0aa",
   "metadata": {},
   "source": [
    "In this case, you would compare the calculated p-value to the significance level (α = 0.01). If the p-value is less than 0.01, you would reject the null hypothesis and conclude that the true mean weight of the products is less than 5 pounds. If the p-value is greater than or equal to 0.01, you would fail to reject the null hypothesis and not conclude that the true mean weight is less than 5 pounds."
   ]
  },
  {
   "cell_type": "markdown",
   "id": "05bb61b9-f615-4509-aff3-6074895fd09e",
   "metadata": {},
   "source": [
    "**Q16**. Two groups of students are given different study materials to prepare for a test. The first group (n1 =\n",
    "30) has a mean score of 80 with a standard deviation of 10, and the second group (n2 = 40) has a mean\n",
    "score of 75 with a standard deviation of 8. Test the hypothesis that the population means for the two\n",
    "groups are equal with a significance level of 0.01.'\n",
    "\n",
    "**Answer**:To test the hypothesis that the population means for the two groups are equal, we can perform a two-sample independent t-test. The null hypothesis (H0) is that the population means of the two groups are equal, and the alternative hypothesis (Ha) is that the population means are different.\n",
    "\n",
    "Given the sample means, sample standard deviations, and sample sizes for both groups, as well as the significance level (α) of 0.01, we can calculate the pooled standard error, the t-statistic, and the corresponding p-value to test the hypothesis.\n",
    "\n",
    "Step 1: Set up hypotheses:\n",
    "Null Hypothesis (H0): The population means of the two groups are equal.\n",
    "Alternative Hypothesis (Ha): The population means of the two groups are different.\n",
    "\n",
    "Step 2: Calculate the pooled standard error:\n",
    "The pooled standard error combines the standard deviations of both groups and accounts for their respective sample sizes.\n",
    "\n",
    "Pooled Standard Error (SE) = sqrt[(s1^2 / n1) + (s2^2 / n2)]\n",
    "\n",
    "where:\n",
    "s1 = Sample standard deviation of the first group (10)\n",
    "n1 = Sample size of the first group (30)\n",
    "s2 = Sample standard deviation of the second group (8)\n",
    "n2 = Sample size of the second group (40)\n",
    "\n",
    "Step 3: Calculate the t-statistic:\n",
    "The formula for the two-sample t-statistic is:\n",
    "\n",
    "t = (x̄1 - x̄2) / SE\n",
    "\n",
    "where:\n",
    "x̄1 = Sample mean of the first group (80)\n",
    "x̄2 = Sample mean of the second group (75)\n",
    "\n",
    "Step 4: Calculate the degrees of freedom (df):\n",
    "The degrees of freedom for a two-sample t-test is calculated as follows:\n",
    "\n",
    "df = n1 + n2 - 2\n",
    "\n",
    "Step 5: Calculate the p-value:\n",
    "We can calculate the p-value using the cumulative distribution function (CDF) of the t-distribution.\n",
    "\n",
    "Step 6: Compare the p-value with the significance level:\n",
    "Since this is a two-tailed test (testing if the population means are different), we compare the p-value with the significance level (α = 0.01).\n",
    "    "
   ]
  },
  {
   "cell_type": "code",
   "execution_count": 18,
   "id": "d021dac9-0272-4b3e-81dd-d32daab4cb4a",
   "metadata": {},
   "outputs": [
    {
     "name": "stdout",
     "output_type": "stream",
     "text": [
      "Fail to reject the null hypothesis: There is insufficient evidence to conclude that the population means are different.\n"
     ]
    }
   ],
   "source": [
    "import numpy as np\n",
    "\n",
    "sample_std_dev1 = 10\n",
    "sample_size1 = 30\n",
    "sample_std_dev2 = 8\n",
    "sample_size2 = 40\n",
    "\n",
    "pooled_std_error = np.sqrt((sample_std_dev1 ** 2 / sample_size1) + (sample_std_dev2 ** 2 / sample_size2))\n",
    "\n",
    "sample_mean1 = 80\n",
    "sample_mean2 = 75\n",
    "\n",
    "t_statistic = (sample_mean1 - sample_mean2) / pooled_std_error\n",
    "\n",
    "degrees_of_freedom = sample_size1 + sample_size2 - 2\n",
    "\n",
    "from scipy.stats import t\n",
    "\n",
    "p_value = 2 * (1 - t.cdf(abs(t_statistic), df=degrees_of_freedom))\n",
    "\n",
    "alpha = 0.01\n",
    "\n",
    "if p_value < alpha:\n",
    "    print(\"Reject the null hypothesis: The population means for the two groups are different.\")\n",
    "else:\n",
    "    print(\"Fail to reject the null hypothesis: There is insufficient evidence to conclude that the population means are different.\")\n"
   ]
  },
  {
   "cell_type": "markdown",
   "id": "c57d0b30-1cca-40fb-b37e-be502d764d39",
   "metadata": {},
   "source": [
    "**Q17.** A marketing company wants to estimate the average number of ads watched by viewers during a TV\n",
    "program. They take a random sample of 50 viewers and find that the sample mean is 4 with a standard\n",
    "deviation of 1.5. Estimate the population mean with a 99% confidence interval.\n",
    "\n",
    "**Answer**:\n",
    "To estimate the population mean number of ads watched by viewers during a TV program with a 99% confidence interval, we can use the t-distribution since the population standard deviation is unknown, and the sample size is relatively small (n = 50). Here's how you can calculate the confidence interval:\n",
    "\n",
    "Step 1: Given information\n",
    "Sample mean (x̄) = 4\n",
    "Sample standard deviation (s) = 1.5\n",
    "Sample size (n) = 50\n",
    "Confidence level (1 - α) = 99% (α = 0.01)\n",
    "\n",
    "Step 2: Find the critical value (t-critical) from the t-distribution table for a 99% confidence level with (n - 1) degrees of freedom. Since the sample size is 50, the degrees of freedom will be (50 - 1) = 49.\n",
    "\n",
    "Step 3: Calculate the standard error (SE) of the sample mean:\n",
    "\n",
    "SE = s / sqrt(n)\n",
    "\n",
    "Step 4: Calculate the margin of error (ME):\n",
    "\n",
    "ME = t-critical * SE\n",
    "\n",
    "Step 5: Calculate the confidence interval:\n",
    "\n",
    "Lower bound = Sample mean - Margin of error\n",
    "Upper bound = Sample mean + Margin of error"
   ]
  },
  {
   "cell_type": "code",
   "execution_count": 19,
   "id": "bc4fbd35-7c19-4e15-9a30-1ebc080e036b",
   "metadata": {},
   "outputs": [],
   "source": [
    "import scipy.stats as stats\n",
    "\n",
    "confidence_level = 0.99\n",
    "degrees_of_freedom = 49\n",
    "t_critical = stats.t.ppf(1 - (1 - confidence_level) / 2, degrees_of_freedom)\n",
    "\n",
    "standard_error = 1.5 / (50 ** 0.5)\n",
    "\n",
    "margin_of_error = t_critical * standard_error\n",
    "\n",
    "lower_bound = 4 - margin_of_error\n",
    "upper_bound = 4 + margin_of_error\n"
   ]
  },
  {
   "cell_type": "markdown",
   "id": "583e293c-2a49-4e1c-852c-2b98d9611843",
   "metadata": {},
   "source": [
    "Step 6: Interpret the results:\n",
    "\n",
    "The population mean number of ads watched by viewers during a TV program can be estimated to lie within the 99% confidence interval of (lower_bound, upper_bound). In this case, the 99% confidence interval is (4 - margin_of_error, 4 + margin_of_error), which means we are 99% confident that the true average number of ads watched by viewers falls between the lower_bound and upper_bound."
   ]
  },
  {
   "cell_type": "code",
   "execution_count": null,
   "id": "8cc748e8-1ef3-4d46-b8ba-f2a1d2f4d9eb",
   "metadata": {},
   "outputs": [],
   "source": []
  }
 ],
 "metadata": {
  "kernelspec": {
   "display_name": "Python 3 (ipykernel)",
   "language": "python",
   "name": "python3"
  },
  "language_info": {
   "codemirror_mode": {
    "name": "ipython",
    "version": 3
   },
   "file_extension": ".py",
   "mimetype": "text/x-python",
   "name": "python",
   "nbconvert_exporter": "python",
   "pygments_lexer": "ipython3",
   "version": "3.10.8"
  }
 },
 "nbformat": 4,
 "nbformat_minor": 5
}
